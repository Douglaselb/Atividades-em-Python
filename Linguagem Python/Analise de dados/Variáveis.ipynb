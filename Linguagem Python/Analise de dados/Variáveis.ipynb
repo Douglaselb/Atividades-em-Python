{
 "cells": [
  {
   "cell_type": "markdown",
   "id": "2f1dd9fd",
   "metadata": {},
   "source": [
    "# Iniciando no Jupyter"
   ]
  },
  {
   "cell_type": "markdown",
   "id": "0d267b14",
   "metadata": {},
   "source": [
    "Atribuindo variaveis e identificando seu tipo"
   ]
  },
  {
   "cell_type": "code",
   "execution_count": null,
   "id": "1c93720c",
   "metadata": {},
   "outputs": [
    {
     "ename": "",
     "evalue": "",
     "output_type": "error",
     "traceback": [
      "\u001b[1;31mRunning cells with 'c:\\Users\\sakur\\AppData\\Local\\Programs\\Python\\Python312\\python.exe' requires the ipykernel package.\n",
      "\u001b[1;31mRun the following command to install 'ipykernel' into the Python environment. \n",
      "\u001b[1;31mCommand: 'c:/Users/sakur/AppData/Local/Programs/Python/Python312/python.exe -m pip install ipykernel -U --user --force-reinstall'"
     ]
    }
   ],
   "source": [
    "x = 10\n",
    "nome = 'Aluno'\n",
    "nota = 9.5\n",
    "fez_inscricao = True"
   ]
  },
  {
   "cell_type": "code",
   "execution_count": null,
   "id": "0ada82f3",
   "metadata": {},
   "outputs": [
    {
     "ename": "",
     "evalue": "",
     "output_type": "error",
     "traceback": [
      "\u001b[1;31mRunning cells with 'c:\\Users\\sakur\\AppData\\Local\\Programs\\Python\\Python312\\python.exe' requires the ipykernel package.\n",
      "\u001b[1;31mRun the following command to install 'ipykernel' into the Python environment. \n",
      "\u001b[1;31mCommand: 'c:/Users/sakur/AppData/Local/Programs/Python/Python312/python.exe -m pip install ipykernel -U --user --force-reinstall'"
     ]
    }
   ],
   "source": [
    "print(type(x))\n",
    "print(type(nome))\n",
    "print(type(nota))\n",
    "print(type(fez_inscricao))"
   ]
  }
 ],
 "metadata": {
  "kernelspec": {
   "display_name": "Python 3 (ipykernel)",
   "language": "python",
   "name": "python3"
  },
  "language_info": {
   "codemirror_mode": {
    "name": "ipython",
    "version": 3
   },
   "file_extension": ".py",
   "mimetype": "text/x-python",
   "name": "python",
   "nbconvert_exporter": "python",
   "pygments_lexer": "ipython3",
   "version": "3.12.0"
  }
 },
 "nbformat": 4,
 "nbformat_minor": 5
}
