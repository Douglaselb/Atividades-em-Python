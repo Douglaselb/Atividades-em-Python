{
 "cells": [
  {
   "cell_type": "markdown",
   "id": "fbb3f760",
   "metadata": {},
   "source": [
    "# Primeiros passos Numpy"
   ]
  },
  {
   "cell_type": "markdown",
   "id": "c3493d28",
   "metadata": {},
   "source": [
    "Exemplificando os diferentes tipos de arrays"
   ]
  },
  {
   "cell_type": "code",
   "execution_count": 1,
   "id": "9398c720",
   "metadata": {},
   "outputs": [],
   "source": [
    "import numpy as np"
   ]
  },
  {
   "cell_type": "markdown",
   "id": "836e5270",
   "metadata": {},
   "source": [
    "Array de apenas uma dimensão (1D array) é chamada de vetor ou vector.\n",
    "Com duas dimensões são chamadas de matriz ou matrix (2D array).\n",
    "Com três ou mais dimensões é chamada de tensor."
   ]
  },
  {
   "cell_type": "code",
   "execution_count": 4,
   "id": "b41e2c3f",
   "metadata": {},
   "outputs": [],
   "source": [
    "x1 = np.array([10, 9, 8, 7, 6, 5])"
   ]
  },
  {
   "cell_type": "code",
   "execution_count": 5,
   "id": "ec6d9783",
   "metadata": {},
   "outputs": [
    {
     "name": "stdout",
     "output_type": "stream",
     "text": [
      "[10  9  8  7  6  5]\n"
     ]
    }
   ],
   "source": [
    "print (x1)"
   ]
  },
  {
   "cell_type": "code",
   "execution_count": 11,
   "id": "5dd177c6",
   "metadata": {
    "scrolled": true
   },
   "outputs": [
    {
     "name": "stdout",
     "output_type": "stream",
     "text": [
      "A variável x1 é do tipo: <class 'numpy.ndarray'>\n",
      "A variável x1 tem  1  dimensão.\n"
     ]
    }
   ],
   "source": [
    "print('A variável x1 é do tipo:',type(x1))\n",
    "\n",
    "print('A variável x1 tem ',x1.ndim,' dimensão.')"
   ]
  },
  {
   "cell_type": "markdown",
   "id": "2f976e88",
   "metadata": {},
   "source": [
    "---------------------------------------------------------"
   ]
  },
  {
   "cell_type": "code",
   "execution_count": 49,
   "id": "1e11e0c5",
   "metadata": {},
   "outputs": [
    {
     "name": "stdout",
     "output_type": "stream",
     "text": [
      "[[[0. 0. 0. 0. 0. 0.]\n",
      "  [0. 0. 0. 0. 0. 0.]\n",
      "  [0. 0. 0. 0. 0. 0.]]\n",
      "\n",
      " [[0. 0. 0. 0. 0. 0.]\n",
      "  [0. 0. 0. 0. 0. 0.]\n",
      "  [0. 0. 0. 0. 0. 0.]]\n",
      "\n",
      " [[0. 0. 0. 0. 0. 0.]\n",
      "  [0. 0. 0. 0. 0. 0.]\n",
      "  [0. 0. 0. 0. 0. 0.]]\n",
      "\n",
      " [[0. 0. 0. 0. 0. 0.]\n",
      "  [0. 0. 0. 0. 0. 0.]\n",
      "  [0. 0. 0. 0. 0. 0.]]\n",
      "\n",
      " [[0. 0. 0. 0. 0. 0.]\n",
      "  [0. 0. 0. 0. 0. 0.]\n",
      "  [0. 0. 0. 0. 0. 0.]]]\n"
     ]
    }
   ],
   "source": [
    "zero = np.zeros(shape = (5,3,6))\n",
    "print(zero)"
   ]
  },
  {
   "cell_type": "code",
   "execution_count": 47,
   "id": "5190a906",
   "metadata": {},
   "outputs": [
    {
     "name": "stdout",
     "output_type": "stream",
     "text": [
      "A variável x1 é do tipo: <class 'numpy.ndarray'>\n",
      "A variável x1 tem  3  dimensão.\n"
     ]
    }
   ],
   "source": [
    "print('A variável x1 é do tipo:',type(zero))\n",
    "\n",
    "print('A variável x1 tem ',zero.ndim,' dimensão.')"
   ]
  },
  {
   "cell_type": "markdown",
   "id": "6125bccf",
   "metadata": {},
   "source": [
    "---------------------------------------------------------"
   ]
  },
  {
   "cell_type": "markdown",
   "id": "60a94682",
   "metadata": {},
   "source": [
    "arange podemos determinar o inicio (2), o fim (50) e uma constante que no caso usado foi para pular de 3 em 3"
   ]
  },
  {
   "cell_type": "code",
   "execution_count": 71,
   "id": "a2b185eb",
   "metadata": {},
   "outputs": [
    {
     "name": "stdout",
     "output_type": "stream",
     "text": [
      "[ 2  5  8 11 14 17 20 23 26 29 32 35 38 41 44 47]\n"
     ]
    }
   ],
   "source": [
    "dez = np.arange(2,50,3)\n",
    "print(dez)"
   ]
  },
  {
   "cell_type": "markdown",
   "id": "acd82cdf",
   "metadata": {},
   "source": [
    "---------------------------------------------------------"
   ]
  },
  {
   "cell_type": "markdown",
   "id": "5c96fc76",
   "metadata": {},
   "source": [
    "Para uma sequência linear usamos o linspace\n",
    "sintaxe np.linspace(start, stop, num = 50, endpoint = False, retstep = False, dtype = None, axis = 0)\n",
    " num = quantos números serão mostrados\n",
    " endpoint = False (o n° stop não será exibido)\n",
    " retstep = False (sendo false vai informar a constante entre um valor e o outro)\n",
    " "
   ]
  },
  {
   "cell_type": "code",
   "execution_count": 82,
   "id": "ef2029cf",
   "metadata": {},
   "outputs": [],
   "source": [
    "linear = np.linspace (1, 100, num = 20, retstep = True, dtype = None, axis = 0)"
   ]
  },
  {
   "cell_type": "code",
   "execution_count": 83,
   "id": "4756aea5",
   "metadata": {},
   "outputs": [
    {
     "name": "stdout",
     "output_type": "stream",
     "text": [
      "(array([  1.        ,   6.21052632,  11.42105263,  16.63157895,\n",
      "        21.84210526,  27.05263158,  32.26315789,  37.47368421,\n",
      "        42.68421053,  47.89473684,  53.10526316,  58.31578947,\n",
      "        63.52631579,  68.73684211,  73.94736842,  79.15789474,\n",
      "        84.36842105,  89.57894737,  94.78947368, 100.        ]), 5.2105263157894735)\n"
     ]
    }
   ],
   "source": [
    "print(linear)"
   ]
  },
  {
   "cell_type": "markdown",
   "id": "6f1cc82e",
   "metadata": {},
   "source": [
    "---------------------------------------------------------"
   ]
  },
  {
   "cell_type": "markdown",
   "id": "3043e5ec",
   "metadata": {},
   "source": [
    "Concatenando arrays"
   ]
  },
  {
   "cell_type": "code",
   "execution_count": 86,
   "id": "7848787a",
   "metadata": {},
   "outputs": [],
   "source": [
    "x1 = np.array([5,6,7,8,9])\n",
    "x2 = np.array([0,1,2,3,4])\n",
    "y1 = np.concatenate((x1,x2))\n",
    "y2 = np.concatenate((x2,x1))"
   ]
  },
  {
   "cell_type": "code",
   "execution_count": 95,
   "id": "68b78773",
   "metadata": {},
   "outputs": [
    {
     "name": "stdout",
     "output_type": "stream",
     "text": [
      "[5 6 7 8 9 0 1 2 3 4]\n",
      "---------------------\n",
      "[0 1 2 3 4 5 6 7 8 9]\n"
     ]
    }
   ],
   "source": [
    "print(y1)\n",
    "print('-'*21)\n",
    "print(y2)"
   ]
  },
  {
   "cell_type": "code",
   "execution_count": 98,
   "id": "f4c82a12",
   "metadata": {},
   "outputs": [
    {
     "name": "stdout",
     "output_type": "stream",
     "text": [
      "[4 5 6 7 8 9]\n"
     ]
    }
   ],
   "source": [
    "print(y2[y2>3])"
   ]
  },
  {
   "cell_type": "code",
   "execution_count": 101,
   "id": "1131b938",
   "metadata": {},
   "outputs": [
    {
     "name": "stdout",
     "output_type": "stream",
     "text": [
      "9\n",
      "5\n"
     ]
    }
   ],
   "source": [
    "print(max(y2))\n",
    "print(min(x1))"
   ]
  }
 ],
 "metadata": {
  "kernelspec": {
   "display_name": "Python 3 (ipykernel)",
   "language": "python",
   "name": "python3"
  },
  "language_info": {
   "codemirror_mode": {
    "name": "ipython",
    "version": 3
   },
   "file_extension": ".py",
   "mimetype": "text/x-python",
   "name": "python",
   "nbconvert_exporter": "python",
   "pygments_lexer": "ipython3",
   "version": "3.10.9"
  }
 },
 "nbformat": 4,
 "nbformat_minor": 5
}
